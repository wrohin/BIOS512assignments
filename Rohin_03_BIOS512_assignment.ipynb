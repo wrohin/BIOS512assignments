{
 "cells": [
  {
   "cell_type": "markdown",
   "id": "e9216b63-c18a-4c9b-beff-4b6b2e1b6964",
   "metadata": {},
   "source": [
    "# BIOS512 Assignment #3"
   ]
  },
  {
   "cell_type": "markdown",
   "id": "4403015e-d27f-473c-8720-088ac6db57c9",
   "metadata": {},
   "source": [
    "Import the 📈Tidyverse into your `R` session"
   ]
  },
  {
   "cell_type": "code",
   "execution_count": 37,
   "id": "2cb997c6-b57c-4198-aa5c-8be897467c7c",
   "metadata": {},
   "outputs": [],
   "source": [
    "library('tidyverse')"
   ]
  },
  {
   "cell_type": "markdown",
   "id": "47ccf7f6-01c6-46b4-94a1-f8dcd8ef8377",
   "metadata": {},
   "source": [
    "In this assignment we'll be using data from the [TidyTuesday Project](https://github.com/rfordatascience/tidytuesday). Specifically, we'll investigate vaccination rates at US schools. A `CSV` file of the data is located at:  \n",
    "\n",
    "[https://github.com/rfordatascience/tidytuesday/blob/master/data/2020/2020-02-25/measles.csv](https://github.com/rfordatascience/tidytuesday/blob/master/data/2020/2020-02-25/measles.csv)\n",
    "\n",
    "Get the \"raw\" data URL and import it into your `R` session using `read_csv`. Remember to capture the data under a variable name of your choosing!"
   ]
  },
  {
   "cell_type": "code",
   "execution_count": 19,
   "id": "8de37571-29da-4393-b1eb-ca13fcd70fed",
   "metadata": {},
   "outputs": [
    {
     "name": "stderr",
     "output_type": "stream",
     "text": [
      "\u001b[1mRows: \u001b[22m\u001b[34m66113\u001b[39m \u001b[1mColumns: \u001b[22m\u001b[34m16\u001b[39m\n",
      "\u001b[36m──\u001b[39m \u001b[1mColumn specification\u001b[22m \u001b[36m────────────────────────────────────────────────────────\u001b[39m\n",
      "\u001b[1mDelimiter:\u001b[22m \",\"\n",
      "\u001b[31mchr\u001b[39m (6): state, year, name, type, city, county\n",
      "\u001b[32mdbl\u001b[39m (8): index, enroll, mmr, overall, xmed, xper, lat, lng\n",
      "\u001b[33mlgl\u001b[39m (2): district, xrel\n",
      "\n",
      "\u001b[36mℹ\u001b[39m Use `spec()` to retrieve the full column specification for this data.\n",
      "\u001b[36mℹ\u001b[39m Specify the column types or set `show_col_types = FALSE` to quiet this message.\n"
     ]
    }
   ],
   "source": [
    "df.measles=read_csv('measles.csv')"
   ]
  },
  {
   "cell_type": "markdown",
   "id": "feb89cec-8cda-457d-95cf-89dbfa932ab4",
   "metadata": {},
   "source": [
    "The `mmr` column has holds 🤒 measles, mumps, rubella 🤒 vaccination rates for students in each respective school. **If the `mmr` value is not available for a school the `mmr` value is set to -1 in this data set.** \n",
    "\n",
    "The target `mmr` vaccination rate as [recommended by the CDC](https://www.cdc.gov/mmwr/preview/mmwrhtml/mm5632a3.htm) for schools is 95%. \n",
    "\n",
    "**Calculate the fraction of schools per state that have vaccination rates greater than the CDC 95%. Capture the output as a table called `df_vacc_rates`.**\n",
    "\n",
    "You'll need to do use `filter`, `group_by`, and `summarize`. \n",
    "\n",
    "I.e.\n",
    "1. Filter out schools that don't report `mmr` vaccination rate (keep schools where `mmr >= 0`).\n",
    "1. Group the data by `state`.\n",
    "1. Summarize fracion of vaccination rates above 95%.\n",
    "\n",
    "💡Remember `n()` stands for the number or records in a group. Also, `sum(mmr >= 95, na.rm=TRUE)` will count the number of values above or equal to 95.💡"
   ]
  },
  {
   "cell_type": "code",
   "execution_count": 20,
   "id": "0ba9a861-00fc-4392-a67d-cddbd5a994e0",
   "metadata": {},
   "outputs": [
    {
     "name": "stderr",
     "output_type": "stream",
     "text": [
      "Warning message:\n",
      "“\u001b[1m\u001b[22mReturning more (or less) than 1 row per `summarise()` group was deprecated in\n",
      "dplyr 1.1.0.\n",
      "\u001b[36mℹ\u001b[39m Please use `reframe()` instead.\n",
      "\u001b[36mℹ\u001b[39m When switching from `summarise()` to `reframe()`, remember that `reframe()`\n",
      "  always returns an ungrouped data frame and adjust accordingly.”\n",
      "\u001b[1m\u001b[22m`summarise()` has grouped output by 'state'. You can override using the\n",
      "`.groups` argument.\n"
     ]
    },
    {
     "data": {
      "text/html": [
       "<table class=\"dataframe\">\n",
       "<caption>A grouped_df: 6 × 6</caption>\n",
       "<thead>\n",
       "\t<tr><th scope=col>state</th><th scope=col>N</th><th scope=col>mmr &gt;= 95</th><th scope=col>na.rm</th><th scope=col>N95</th><th scope=col>frac_N95</th></tr>\n",
       "\t<tr><th scope=col>&lt;chr&gt;</th><th scope=col>&lt;int&gt;</th><th scope=col>&lt;lgl&gt;</th><th scope=col>&lt;lgl&gt;</th><th scope=col>&lt;int&gt;</th><th scope=col>&lt;dbl&gt;</th></tr>\n",
       "</thead>\n",
       "<tbody>\n",
       "\t<tr><td>Arizona</td><td>1171</td><td>TRUE</td><td>TRUE</td><td>593</td><td>0.5064048</td></tr>\n",
       "\t<tr><td>Arizona</td><td>1171</td><td>TRUE</td><td>TRUE</td><td>593</td><td>0.5064048</td></tr>\n",
       "\t<tr><td>Arizona</td><td>1171</td><td>TRUE</td><td>TRUE</td><td>593</td><td>0.5064048</td></tr>\n",
       "\t<tr><td>Arizona</td><td>1171</td><td>TRUE</td><td>TRUE</td><td>593</td><td>0.5064048</td></tr>\n",
       "\t<tr><td>Arizona</td><td>1171</td><td>TRUE</td><td>TRUE</td><td>593</td><td>0.5064048</td></tr>\n",
       "\t<tr><td>Arizona</td><td>1171</td><td>TRUE</td><td>TRUE</td><td>593</td><td>0.5064048</td></tr>\n",
       "</tbody>\n",
       "</table>\n"
      ],
      "text/latex": [
       "A grouped\\_df: 6 × 6\n",
       "\\begin{tabular}{llllll}\n",
       " state & N & mmr >= 95 & na.rm & N95 & frac\\_N95\\\\\n",
       " <chr> & <int> & <lgl> & <lgl> & <int> & <dbl>\\\\\n",
       "\\hline\n",
       "\t Arizona & 1171 & TRUE & TRUE & 593 & 0.5064048\\\\\n",
       "\t Arizona & 1171 & TRUE & TRUE & 593 & 0.5064048\\\\\n",
       "\t Arizona & 1171 & TRUE & TRUE & 593 & 0.5064048\\\\\n",
       "\t Arizona & 1171 & TRUE & TRUE & 593 & 0.5064048\\\\\n",
       "\t Arizona & 1171 & TRUE & TRUE & 593 & 0.5064048\\\\\n",
       "\t Arizona & 1171 & TRUE & TRUE & 593 & 0.5064048\\\\\n",
       "\\end{tabular}\n"
      ],
      "text/markdown": [
       "\n",
       "A grouped_df: 6 × 6\n",
       "\n",
       "| state &lt;chr&gt; | N &lt;int&gt; | mmr &gt;= 95 &lt;lgl&gt; | na.rm &lt;lgl&gt; | N95 &lt;int&gt; | frac_N95 &lt;dbl&gt; |\n",
       "|---|---|---|---|---|---|\n",
       "| Arizona | 1171 | TRUE | TRUE | 593 | 0.5064048 |\n",
       "| Arizona | 1171 | TRUE | TRUE | 593 | 0.5064048 |\n",
       "| Arizona | 1171 | TRUE | TRUE | 593 | 0.5064048 |\n",
       "| Arizona | 1171 | TRUE | TRUE | 593 | 0.5064048 |\n",
       "| Arizona | 1171 | TRUE | TRUE | 593 | 0.5064048 |\n",
       "| Arizona | 1171 | TRUE | TRUE | 593 | 0.5064048 |\n",
       "\n"
      ],
      "text/plain": [
       "  state   N    mmr >= 95 na.rm N95 frac_N95 \n",
       "1 Arizona 1171 TRUE      TRUE  593 0.5064048\n",
       "2 Arizona 1171 TRUE      TRUE  593 0.5064048\n",
       "3 Arizona 1171 TRUE      TRUE  593 0.5064048\n",
       "4 Arizona 1171 TRUE      TRUE  593 0.5064048\n",
       "5 Arizona 1171 TRUE      TRUE  593 0.5064048\n",
       "6 Arizona 1171 TRUE      TRUE  593 0.5064048"
      ]
     },
     "metadata": {},
     "output_type": "display_data"
    }
   ],
   "source": [
    "# create the df_vacc_rates here\n",
    "df.measles |>\n",
    "    filter(mmr>=0) |>\n",
    "    group_by(state) |>\n",
    "    summarize(N=n(), mmr>=95,na.rm=TRUE, N95= sum(mmr>=95)) |>\n",
    "    mutate(frac_N95=N95/N)|>\n",
    "    head()\n"
   ]
  },
  {
   "cell_type": "markdown",
   "id": "900ddf7f-d801-4a70-9453-73bdd3277344",
   "metadata": {},
   "source": [
    "Which state (of those that report `mmr`) has the smallest fraction of schools above the CDC target vaccination rate of 95%?  "
   ]
  },
  {
   "cell_type": "code",
   "execution_count": 21,
   "id": "13812611-a534-46c2-aae6-0f6c645273e0",
   "metadata": {},
   "outputs": [
    {
     "name": "stderr",
     "output_type": "stream",
     "text": [
      "Warning message:\n",
      "“\u001b[1m\u001b[22mReturning more (or less) than 1 row per `summarise()` group was deprecated in\n",
      "dplyr 1.1.0.\n",
      "\u001b[36mℹ\u001b[39m Please use `reframe()` instead.\n",
      "\u001b[36mℹ\u001b[39m When switching from `summarise()` to `reframe()`, remember that `reframe()`\n",
      "  always returns an ungrouped data frame and adjust accordingly.”\n",
      "\u001b[1m\u001b[22m`summarise()` has grouped output by 'state'. You can override using the\n",
      "`.groups` argument.\n"
     ]
    },
    {
     "data": {
      "text/html": [
       "<table class=\"dataframe\">\n",
       "<caption>A grouped_df: 6 × 6</caption>\n",
       "<thead>\n",
       "\t<tr><th scope=col>state</th><th scope=col>N</th><th scope=col>mmr &gt;= 95</th><th scope=col>na.rm</th><th scope=col>N95</th><th scope=col>frac_N95</th></tr>\n",
       "\t<tr><th scope=col>&lt;chr&gt;</th><th scope=col>&lt;int&gt;</th><th scope=col>&lt;lgl&gt;</th><th scope=col>&lt;lgl&gt;</th><th scope=col>&lt;int&gt;</th><th scope=col>&lt;dbl&gt;</th></tr>\n",
       "</thead>\n",
       "<tbody>\n",
       "\t<tr><td>Arkansas</td><td>567</td><td> TRUE</td><td>TRUE</td><td>2</td><td>0.003527337</td></tr>\n",
       "\t<tr><td>Arkansas</td><td>567</td><td> TRUE</td><td>TRUE</td><td>2</td><td>0.003527337</td></tr>\n",
       "\t<tr><td>Arkansas</td><td>567</td><td>FALSE</td><td>TRUE</td><td>2</td><td>0.003527337</td></tr>\n",
       "\t<tr><td>Arkansas</td><td>567</td><td>FALSE</td><td>TRUE</td><td>2</td><td>0.003527337</td></tr>\n",
       "\t<tr><td>Arkansas</td><td>567</td><td>FALSE</td><td>TRUE</td><td>2</td><td>0.003527337</td></tr>\n",
       "\t<tr><td>Arkansas</td><td>567</td><td>FALSE</td><td>TRUE</td><td>2</td><td>0.003527337</td></tr>\n",
       "</tbody>\n",
       "</table>\n"
      ],
      "text/latex": [
       "A grouped\\_df: 6 × 6\n",
       "\\begin{tabular}{llllll}\n",
       " state & N & mmr >= 95 & na.rm & N95 & frac\\_N95\\\\\n",
       " <chr> & <int> & <lgl> & <lgl> & <int> & <dbl>\\\\\n",
       "\\hline\n",
       "\t Arkansas & 567 &  TRUE & TRUE & 2 & 0.003527337\\\\\n",
       "\t Arkansas & 567 &  TRUE & TRUE & 2 & 0.003527337\\\\\n",
       "\t Arkansas & 567 & FALSE & TRUE & 2 & 0.003527337\\\\\n",
       "\t Arkansas & 567 & FALSE & TRUE & 2 & 0.003527337\\\\\n",
       "\t Arkansas & 567 & FALSE & TRUE & 2 & 0.003527337\\\\\n",
       "\t Arkansas & 567 & FALSE & TRUE & 2 & 0.003527337\\\\\n",
       "\\end{tabular}\n"
      ],
      "text/markdown": [
       "\n",
       "A grouped_df: 6 × 6\n",
       "\n",
       "| state &lt;chr&gt; | N &lt;int&gt; | mmr &gt;= 95 &lt;lgl&gt; | na.rm &lt;lgl&gt; | N95 &lt;int&gt; | frac_N95 &lt;dbl&gt; |\n",
       "|---|---|---|---|---|---|\n",
       "| Arkansas | 567 |  TRUE | TRUE | 2 | 0.003527337 |\n",
       "| Arkansas | 567 |  TRUE | TRUE | 2 | 0.003527337 |\n",
       "| Arkansas | 567 | FALSE | TRUE | 2 | 0.003527337 |\n",
       "| Arkansas | 567 | FALSE | TRUE | 2 | 0.003527337 |\n",
       "| Arkansas | 567 | FALSE | TRUE | 2 | 0.003527337 |\n",
       "| Arkansas | 567 | FALSE | TRUE | 2 | 0.003527337 |\n",
       "\n"
      ],
      "text/plain": [
       "  state    N   mmr >= 95 na.rm N95 frac_N95   \n",
       "1 Arkansas 567  TRUE     TRUE  2   0.003527337\n",
       "2 Arkansas 567  TRUE     TRUE  2   0.003527337\n",
       "3 Arkansas 567 FALSE     TRUE  2   0.003527337\n",
       "4 Arkansas 567 FALSE     TRUE  2   0.003527337\n",
       "5 Arkansas 567 FALSE     TRUE  2   0.003527337\n",
       "6 Arkansas 567 FALSE     TRUE  2   0.003527337"
      ]
     },
     "metadata": {},
     "output_type": "display_data"
    }
   ],
   "source": [
    "#ARKANSAS\n",
    "df.measles |>\n",
    "    filter(mmr>=0) |>\n",
    "    group_by(state) |>\n",
    "    summarize(N=n(), mmr>=95,na.rm=TRUE, N95= sum(mmr>=95)) |>\n",
    "    mutate(frac_N95=N95/N)|>\n",
    "    arrange(frac_N95) |>\n",
    "    head()"
   ]
  },
  {
   "cell_type": "markdown",
   "id": "2866ca03-1f87-466e-ab0a-dd69140496e6",
   "metadata": {},
   "source": [
    "**Make a ECDF plot of the school vaccination rates in North Carolina.** Use the `overall` column which reports the \"overall\" vaccination rate at each school.\n",
    "\n",
    "❗️Remember, you can calculate the `y` value for ECDF charts using `mutate`, and `cume_dist`."
   ]
  },
  {
   "cell_type": "code",
   "execution_count": 53,
   "id": "478c5949-b5cb-4a4c-9915-6201427248c1",
   "metadata": {},
   "outputs": [
    {
     "name": "stderr",
     "output_type": "stream",
     "text": [
      "Warning message:\n",
      "“\u001b[1m\u001b[22mReturning more (or less) than 1 row per `summarise()` group was deprecated in\n",
      "dplyr 1.1.0.\n",
      "\u001b[36mℹ\u001b[39m Please use `reframe()` instead.\n",
      "\u001b[36mℹ\u001b[39m When switching from `summarise()` to `reframe()`, remember that `reframe()`\n",
      "  always returns an ungrouped data frame and adjust accordingly.”\n"
     ]
    },
    {
     "data": {
      "text/html": [
       "<table class=\"dataframe\">\n",
       "<caption>A tibble: 6 × 3</caption>\n",
       "<thead>\n",
       "\t<tr><th scope=col>state</th><th scope=col>ecdf_y</th><th scope=col>overall</th></tr>\n",
       "\t<tr><th scope=col>&lt;chr&gt;</th><th scope=col>&lt;dbl&gt;</th><th scope=col>&lt;dbl&gt;</th></tr>\n",
       "</thead>\n",
       "<tbody>\n",
       "\t<tr><td>North Carolina</td><td>1</td><td>100</td></tr>\n",
       "\t<tr><td>North Carolina</td><td>1</td><td>100</td></tr>\n",
       "\t<tr><td>North Carolina</td><td>1</td><td>100</td></tr>\n",
       "\t<tr><td>North Carolina</td><td>1</td><td>100</td></tr>\n",
       "\t<tr><td>North Carolina</td><td>1</td><td>100</td></tr>\n",
       "\t<tr><td>North Carolina</td><td>1</td><td>100</td></tr>\n",
       "</tbody>\n",
       "</table>\n"
      ],
      "text/latex": [
       "A tibble: 6 × 3\n",
       "\\begin{tabular}{lll}\n",
       " state & ecdf\\_y & overall\\\\\n",
       " <chr> & <dbl> & <dbl>\\\\\n",
       "\\hline\n",
       "\t North Carolina & 1 & 100\\\\\n",
       "\t North Carolina & 1 & 100\\\\\n",
       "\t North Carolina & 1 & 100\\\\\n",
       "\t North Carolina & 1 & 100\\\\\n",
       "\t North Carolina & 1 & 100\\\\\n",
       "\t North Carolina & 1 & 100\\\\\n",
       "\\end{tabular}\n"
      ],
      "text/markdown": [
       "\n",
       "A tibble: 6 × 3\n",
       "\n",
       "| state &lt;chr&gt; | ecdf_y &lt;dbl&gt; | overall &lt;dbl&gt; |\n",
       "|---|---|---|\n",
       "| North Carolina | 1 | 100 |\n",
       "| North Carolina | 1 | 100 |\n",
       "| North Carolina | 1 | 100 |\n",
       "| North Carolina | 1 | 100 |\n",
       "| North Carolina | 1 | 100 |\n",
       "| North Carolina | 1 | 100 |\n",
       "\n"
      ],
      "text/plain": [
       "  state          ecdf_y overall\n",
       "1 North Carolina 1      100    \n",
       "2 North Carolina 1      100    \n",
       "3 North Carolina 1      100    \n",
       "4 North Carolina 1      100    \n",
       "5 North Carolina 1      100    \n",
       "6 North Carolina 1      100    "
      ]
     },
     "metadata": {},
     "output_type": "display_data"
    }
   ],
   "source": [
    "library('ggrepel')\n",
    "df.measles |>\n",
    "   filter(state==\"North Carolina\") |>\n",
    "    mutate(ecdf_y=cume_dist(overall)) |>\n",
    "    summarize(state,ecdf_y, overall) |>\n",
    "  \n",
    "    head()\n"
   ]
  },
  {
   "cell_type": "code",
   "execution_count": 44,
   "id": "ade0f13e-bd1e-45aa-8857-d129aeb93eee",
   "metadata": {},
   "outputs": [
    {
     "data": {
      "image/png": "[encoded data removed]",
      "text/plain": [
       "plot without title"
      ]
     },
     "metadata": {
      "image/png": {
       "height": 875,
       "width": 1000
      }
     },
     "output_type": "display_data"
    }
   ],
   "source": [
    "options(repr.plot.width=8)\n",
    "   \n",
    "ggplot(df.measles, aes(x=overall)) + \n",
    "    stat_ecdf(geom=\"point\", size=0.05, alpha=0.5) +\n",
    "    labs(x='Vaccination Rate (%)', y=\"Fraction of Schools\")\n",
    "\n",
    "\n",
    "    "
   ]
  },
  {
   "cell_type": "markdown",
   "id": "8f5ea83f-c904-46ee-9f52-af1bd1afbc96",
   "metadata": {},
   "source": [
    "(My solution is below if you want to peek 👀. Uncomment the code, change the cell to `markdown`, and exectute it. I used `geom_text_repel` from [ggrepel](https://cran.r-project.org/web/packages/ggrepel/vignettes/ggrepel.html) fo the annotation.)"
   ]
  },
  {
   "cell_type": "markdown",
   "id": "28c8ae2d-23a9-4773-9ce3-c0b50ca6ef8d",
   "metadata": {},
   "source": [
    "![](https://github.com/chuckpr/BIOS512/blob/main/assignments/2023/measles-chart.png?raw=true)"
   ]
  },
  {
   "cell_type": "markdown",
   "id": "d2041941-dcee-42e8-957f-a725dc36388f",
   "metadata": {},
   "source": [
    "Is the median vaccination rate for NC schools above the CDC recommended target?"
   ]
  },
  {
   "cell_type": "code",
   "execution_count": 54,
   "id": "be2ea536-f8ed-486d-b6e3-9853ac2b01d0",
   "metadata": {},
   "outputs": [
    {
     "name": "stderr",
     "output_type": "stream",
     "text": [
      "Warning message:\n",
      "“\u001b[1m\u001b[22mReturning more (or less) than 1 row per `summarise()` group was deprecated in\n",
      "dplyr 1.1.0.\n",
      "\u001b[36mℹ\u001b[39m Please use `reframe()` instead.\n",
      "\u001b[36mℹ\u001b[39m When switching from `summarise()` to `reframe()`, remember that `reframe()`\n",
      "  always returns an ungrouped data frame and adjust accordingly.”\n"
     ]
    },
    {
     "data": {
      "text/html": [
       "<table class=\"dataframe\">\n",
       "<caption>A tibble: 2085 × 2</caption>\n",
       "<thead>\n",
       "\t<tr><th scope=col>state</th><th scope=col>median.vax.rate</th></tr>\n",
       "\t<tr><th scope=col>&lt;chr&gt;</th><th scope=col>&lt;dbl&gt;</th></tr>\n",
       "</thead>\n",
       "<tbody>\n",
       "\t<tr><td>North Carolina</td><td>100</td></tr>\n",
       "\t<tr><td>North Carolina</td><td>100</td></tr>\n",
       "\t<tr><td>North Carolina</td><td>100</td></tr>\n",
       "\t<tr><td>North Carolina</td><td>100</td></tr>\n",
       "\t<tr><td>North Carolina</td><td>100</td></tr>\n",
       "\t<tr><td>North Carolina</td><td>100</td></tr>\n",
       "\t<tr><td>North Carolina</td><td>100</td></tr>\n",
       "\t<tr><td>North Carolina</td><td>100</td></tr>\n",
       "\t<tr><td>North Carolina</td><td>100</td></tr>\n",
       "\t<tr><td>North Carolina</td><td>100</td></tr>\n",
       "\t<tr><td>North Carolina</td><td>100</td></tr>\n",
       "\t<tr><td>North Carolina</td><td>100</td></tr>\n",
       "\t<tr><td>North Carolina</td><td>100</td></tr>\n",
       "\t<tr><td>North Carolina</td><td>100</td></tr>\n",
       "\t<tr><td>North Carolina</td><td>100</td></tr>\n",
       "\t<tr><td>North Carolina</td><td>100</td></tr>\n",
       "\t<tr><td>North Carolina</td><td>100</td></tr>\n",
       "\t<tr><td>North Carolina</td><td>100</td></tr>\n",
       "\t<tr><td>North Carolina</td><td>100</td></tr>\n",
       "\t<tr><td>North Carolina</td><td>100</td></tr>\n",
       "\t<tr><td>North Carolina</td><td>100</td></tr>\n",
       "\t<tr><td>North Carolina</td><td>100</td></tr>\n",
       "\t<tr><td>North Carolina</td><td>100</td></tr>\n",
       "\t<tr><td>North Carolina</td><td>100</td></tr>\n",
       "\t<tr><td>North Carolina</td><td>100</td></tr>\n",
       "\t<tr><td>North Carolina</td><td>100</td></tr>\n",
       "\t<tr><td>North Carolina</td><td>100</td></tr>\n",
       "\t<tr><td>North Carolina</td><td>100</td></tr>\n",
       "\t<tr><td>North Carolina</td><td>100</td></tr>\n",
       "\t<tr><td>North Carolina</td><td>100</td></tr>\n",
       "\t<tr><td>⋮</td><td>⋮</td></tr>\n",
       "\t<tr><td>North Carolina</td><td>100</td></tr>\n",
       "\t<tr><td>North Carolina</td><td>100</td></tr>\n",
       "\t<tr><td>North Carolina</td><td>100</td></tr>\n",
       "\t<tr><td>North Carolina</td><td>100</td></tr>\n",
       "\t<tr><td>North Carolina</td><td>100</td></tr>\n",
       "\t<tr><td>North Carolina</td><td>100</td></tr>\n",
       "\t<tr><td>North Carolina</td><td>100</td></tr>\n",
       "\t<tr><td>North Carolina</td><td>100</td></tr>\n",
       "\t<tr><td>North Carolina</td><td>100</td></tr>\n",
       "\t<tr><td>North Carolina</td><td>100</td></tr>\n",
       "\t<tr><td>North Carolina</td><td>100</td></tr>\n",
       "\t<tr><td>North Carolina</td><td>100</td></tr>\n",
       "\t<tr><td>North Carolina</td><td>100</td></tr>\n",
       "\t<tr><td>North Carolina</td><td>100</td></tr>\n",
       "\t<tr><td>North Carolina</td><td>100</td></tr>\n",
       "\t<tr><td>North Carolina</td><td>100</td></tr>\n",
       "\t<tr><td>North Carolina</td><td>100</td></tr>\n",
       "\t<tr><td>North Carolina</td><td>100</td></tr>\n",
       "\t<tr><td>North Carolina</td><td>100</td></tr>\n",
       "\t<tr><td>North Carolina</td><td>100</td></tr>\n",
       "\t<tr><td>North Carolina</td><td>100</td></tr>\n",
       "\t<tr><td>North Carolina</td><td>100</td></tr>\n",
       "\t<tr><td>North Carolina</td><td>100</td></tr>\n",
       "\t<tr><td>North Carolina</td><td>100</td></tr>\n",
       "\t<tr><td>North Carolina</td><td>100</td></tr>\n",
       "\t<tr><td>North Carolina</td><td>100</td></tr>\n",
       "\t<tr><td>North Carolina</td><td>100</td></tr>\n",
       "\t<tr><td>North Carolina</td><td>100</td></tr>\n",
       "\t<tr><td>North Carolina</td><td>100</td></tr>\n",
       "\t<tr><td>North Carolina</td><td>100</td></tr>\n",
       "</tbody>\n",
       "</table>\n"
      ],
      "text/latex": [
       "A tibble: 2085 × 2\n",
       "\\begin{tabular}{ll}\n",
       " state & median.vax.rate\\\\\n",
       " <chr> & <dbl>\\\\\n",
       "\\hline\n",
       "\t North Carolina & 100\\\\\n",
       "\t North Carolina & 100\\\\\n",
       "\t North Carolina & 100\\\\\n",
       "\t North Carolina & 100\\\\\n",
       "\t North Carolina & 100\\\\\n",
       "\t North Carolina & 100\\\\\n",
       "\t North Carolina & 100\\\\\n",
       "\t North Carolina & 100\\\\\n",
       "\t North Carolina & 100\\\\\n",
       "\t North Carolina & 100\\\\\n",
       "\t North Carolina & 100\\\\\n",
       "\t North Carolina & 100\\\\\n",
       "\t North Carolina & 100\\\\\n",
       "\t North Carolina & 100\\\\\n",
       "\t North Carolina & 100\\\\\n",
       "\t North Carolina & 100\\\\\n",
       "\t North Carolina & 100\\\\\n",
       "\t North Carolina & 100\\\\\n",
       "\t North Carolina & 100\\\\\n",
       "\t North Carolina & 100\\\\\n",
       "\t North Carolina & 100\\\\\n",
       "\t North Carolina & 100\\\\\n",
       "\t North Carolina & 100\\\\\n",
       "\t North Carolina & 100\\\\\n",
       "\t North Carolina & 100\\\\\n",
       "\t North Carolina & 100\\\\\n",
       "\t North Carolina & 100\\\\\n",
       "\t North Carolina & 100\\\\\n",
       "\t North Carolina & 100\\\\\n",
       "\t North Carolina & 100\\\\\n",
       "\t ⋮ & ⋮\\\\\n",
       "\t North Carolina & 100\\\\\n",
       "\t North Carolina & 100\\\\\n",
       "\t North Carolina & 100\\\\\n",
       "\t North Carolina & 100\\\\\n",
       "\t North Carolina & 100\\\\\n",
       "\t North Carolina & 100\\\\\n",
       "\t North Carolina & 100\\\\\n",
       "\t North Carolina & 100\\\\\n",
       "\t North Carolina & 100\\\\\n",
       "\t North Carolina & 100\\\\\n",
       "\t North Carolina & 100\\\\\n",
       "\t North Carolina & 100\\\\\n",
       "\t North Carolina & 100\\\\\n",
       "\t North Carolina & 100\\\\\n",
       "\t North Carolina & 100\\\\\n",
       "\t North Carolina & 100\\\\\n",
       "\t North Carolina & 100\\\\\n",
       "\t North Carolina & 100\\\\\n",
       "\t North Carolina & 100\\\\\n",
       "\t North Carolina & 100\\\\\n",
       "\t North Carolina & 100\\\\\n",
       "\t North Carolina & 100\\\\\n",
       "\t North Carolina & 100\\\\\n",
       "\t North Carolina & 100\\\\\n",
       "\t North Carolina & 100\\\\\n",
       "\t North Carolina & 100\\\\\n",
       "\t North Carolina & 100\\\\\n",
       "\t North Carolina & 100\\\\\n",
       "\t North Carolina & 100\\\\\n",
       "\t North Carolina & 100\\\\\n",
       "\\end{tabular}\n"
      ],
      "text/markdown": [
       "\n",
       "A tibble: 2085 × 2\n",
       "\n",
       "| state &lt;chr&gt; | median.vax.rate &lt;dbl&gt; |\n",
       "|---|---|\n",
       "| North Carolina | 100 |\n",
       "| North Carolina | 100 |\n",
       "| North Carolina | 100 |\n",
       "| North Carolina | 100 |\n",
       "| North Carolina | 100 |\n",
       "| North Carolina | 100 |\n",
       "| North Carolina | 100 |\n",
       "| North Carolina | 100 |\n",
       "| North Carolina | 100 |\n",
       "| North Carolina | 100 |\n",
       "| North Carolina | 100 |\n",
       "| North Carolina | 100 |\n",
       "| North Carolina | 100 |\n",
       "| North Carolina | 100 |\n",
       "| North Carolina | 100 |\n",
       "| North Carolina | 100 |\n",
       "| North Carolina | 100 |\n",
       "| North Carolina | 100 |\n",
       "| North Carolina | 100 |\n",
       "| North Carolina | 100 |\n",
       "| North Carolina | 100 |\n",
       "| North Carolina | 100 |\n",
       "| North Carolina | 100 |\n",
       "| North Carolina | 100 |\n",
       "| North Carolina | 100 |\n",
       "| North Carolina | 100 |\n",
       "| North Carolina | 100 |\n",
       "| North Carolina | 100 |\n",
       "| North Carolina | 100 |\n",
       "| North Carolina | 100 |\n",
       "| ⋮ | ⋮ |\n",
       "| North Carolina | 100 |\n",
       "| North Carolina | 100 |\n",
       "| North Carolina | 100 |\n",
       "| North Carolina | 100 |\n",
       "| North Carolina | 100 |\n",
       "| North Carolina | 100 |\n",
       "| North Carolina | 100 |\n",
       "| North Carolina | 100 |\n",
       "| North Carolina | 100 |\n",
       "| North Carolina | 100 |\n",
       "| North Carolina | 100 |\n",
       "| North Carolina | 100 |\n",
       "| North Carolina | 100 |\n",
       "| North Carolina | 100 |\n",
       "| North Carolina | 100 |\n",
       "| North Carolina | 100 |\n",
       "| North Carolina | 100 |\n",
       "| North Carolina | 100 |\n",
       "| North Carolina | 100 |\n",
       "| North Carolina | 100 |\n",
       "| North Carolina | 100 |\n",
       "| North Carolina | 100 |\n",
       "| North Carolina | 100 |\n",
       "| North Carolina | 100 |\n",
       "| North Carolina | 100 |\n",
       "| North Carolina | 100 |\n",
       "| North Carolina | 100 |\n",
       "| North Carolina | 100 |\n",
       "| North Carolina | 100 |\n",
       "| North Carolina | 100 |\n",
       "\n"
      ],
      "text/plain": [
       "     state          median.vax.rate\n",
       "1    North Carolina 100            \n",
       "2    North Carolina 100            \n",
       "3    North Carolina 100            \n",
       "4    North Carolina 100            \n",
       "5    North Carolina 100            \n",
       "6    North Carolina 100            \n",
       "7    North Carolina 100            \n",
       "8    North Carolina 100            \n",
       "9    North Carolina 100            \n",
       "10   North Carolina 100            \n",
       "11   North Carolina 100            \n",
       "12   North Carolina 100            \n",
       "13   North Carolina 100            \n",
       "14   North Carolina 100            \n",
       "15   North Carolina 100            \n",
       "16   North Carolina 100            \n",
       "17   North Carolina 100            \n",
       "18   North Carolina 100            \n",
       "19   North Carolina 100            \n",
       "20   North Carolina 100            \n",
       "21   North Carolina 100            \n",
       "22   North Carolina 100            \n",
       "23   North Carolina 100            \n",
       "24   North Carolina 100            \n",
       "25   North Carolina 100            \n",
       "26   North Carolina 100            \n",
       "27   North Carolina 100            \n",
       "28   North Carolina 100            \n",
       "29   North Carolina 100            \n",
       "30   North Carolina 100            \n",
       "⋮    ⋮              ⋮              \n",
       "2056 North Carolina 100            \n",
       "2057 North Carolina 100            \n",
       "2058 North Carolina 100            \n",
       "2059 North Carolina 100            \n",
       "2060 North Carolina 100            \n",
       "2061 North Carolina 100            \n",
       "2062 North Carolina 100            \n",
       "2063 North Carolina 100            \n",
       "2064 North Carolina 100            \n",
       "2065 North Carolina 100            \n",
       "2066 North Carolina 100            \n",
       "2067 North Carolina 100            \n",
       "2068 North Carolina 100            \n",
       "2069 North Carolina 100            \n",
       "2070 North Carolina 100            \n",
       "2071 North Carolina 100            \n",
       "2072 North Carolina 100            \n",
       "2073 North Carolina 100            \n",
       "2074 North Carolina 100            \n",
       "2075 North Carolina 100            \n",
       "2076 North Carolina 100            \n",
       "2077 North Carolina 100            \n",
       "2078 North Carolina 100            \n",
       "2079 North Carolina 100            \n",
       "2080 North Carolina 100            \n",
       "2081 North Carolina 100            \n",
       "2082 North Carolina 100            \n",
       "2083 North Carolina 100            \n",
       "2084 North Carolina 100            \n",
       "2085 North Carolina 100            "
      ]
     },
     "metadata": {},
     "output_type": "display_data"
    },
    {
     "ename": "ERROR",
     "evalue": "Error in head.default(): argument \"x\" is missing, with no default\n",
     "output_type": "error",
     "traceback": [
      "Error in head.default(): argument \"x\" is missing, with no default\nTraceback:\n",
      "1. head()",
      "2. head.default()",
      "3. checkHT(n, dx <- dim(x))"
     ]
    }
   ],
   "source": [
    "#YES\n",
    "df.measles |>\n",
    "   filter(state==\"North Carolina\") |>\n",
    "   summarize(state, median.vax.rate=median(overall))\n",
    "    head()\n",
    "  "
   ]
  },
  {
   "cell_type": "code",
   "execution_count": null,
   "id": "c12d840a-e594-4189-aaf1-8c2d44e2233e",
   "metadata": {},
   "outputs": [],
   "source": []
  }
 ],
 "metadata": {
  "kernelspec": {
   "display_name": ".conda-bios512:R",
   "language": "R",
   "name": "conda-env-.conda-bios512-r"
  },
  "language_info": {
   "codemirror_mode": "r",
   "file_extension": ".r",
   "mimetype": "text/x-r-source",
   "name": "R",
   "pygments_lexer": "r",
   "version": "4.4.1"
  }
 },
 "nbformat": 4,
 "nbformat_minor": 5
}
